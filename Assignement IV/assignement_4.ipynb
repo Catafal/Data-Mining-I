{
 "cells": [
  {
   "cell_type": "markdown",
   "metadata": {},
   "source": [
    "# Assignement 4"
   ]
  },
  {
   "cell_type": "code",
   "execution_count": null,
   "metadata": {},
   "outputs": [],
   "source": [
    "%pip install pyod"
   ]
  },
  {
   "cell_type": "markdown",
   "metadata": {},
   "source": [
    "## Imports and installs"
   ]
  },
  {
   "cell_type": "code",
   "execution_count": 13,
   "metadata": {},
   "outputs": [],
   "source": [
    "import pandas as pd\n",
    "import numpy as np\n",
    "from sklearn import cluster\n",
    "from sklearn import preprocessing\n",
    "import matplotlib.pyplot as plt "
   ]
  },
  {
   "cell_type": "markdown",
   "metadata": {},
   "source": [
    "## Task 0, warmup"
   ]
  },
  {
   "cell_type": "code",
   "execution_count": null,
   "metadata": {},
   "outputs": [],
   "source": [
    "dataframe = pd.read_csv(\"./data/anomaly_data.csv\", delimiter=\",\")\n",
    "#display(dataframe)\n",
    "X, y = dataframe.iloc[:, 1:3], dataframe.iloc[:, -1]\n",
    "#display(X)\n",
    "plt.figure(figsize = (10, 6))\n",
    "\n",
    "plt.hist(X[y==0])\n",
    "plt.hist(X[y == 1])\n",
    "plt.show()\n",
    "plt.scatter(X[y==0].iloc[:, 0], X[y==0].iloc[:, 1], c = 'b')\n",
    "plt.scatter(X[y==1].iloc[:, 0], X[y==1].iloc[:, 1], c = 'r')\n",
    "plt.show()"
   ]
  },
  {
   "cell_type": "markdown",
   "metadata": {},
   "source": [
    "## Task 1: KNN  detection"
   ]
  },
  {
   "cell_type": "code",
   "execution_count": 15,
   "metadata": {},
   "outputs": [],
   "source": [
    "from pyod.models.knn import KNN \n",
    "from sklearn.model_selection import train_test_split  \n",
    "from sklearn.metrics import roc_auc_score, average_precision_score \n",
    "from pyod.utils.example import visualize\n",
    "\n",
    "X_train, X_test, y_train, y_test= train_test_split(X, y, test_size=0.3, random_state=0)\n"
   ]
  },
  {
   "cell_type": "code",
   "execution_count": null,
   "metadata": {},
   "outputs": [],
   "source": [
    "clf = KNN(n_neighbors=10, method=\"largest\", metric=\"euclidean\")\n",
    "clf.fit(X_train)\n",
    "y_test_scores = clf.decision_function(X_test)  # outlier scores\n",
    "y_test_pred = clf.predict(X_test)\n",
    "y_train_pred = clf.predict(X_train)\n",
    "print(roc_auc_score(y_test, y_test_scores))\n",
    "print(average_precision_score(y_test, y_test_scores))\n",
    "visualize(\"KNN\", X_train, y_train, X_test, y_test, y_train_pred, y_test_pred, show_figure=True, save_figure=False)"
   ]
  },
  {
   "cell_type": "code",
   "execution_count": null,
   "metadata": {},
   "outputs": [],
   "source": [
    "bestScore = 0\n",
    "method = [\"largest\", \"mean\", \"median\"]\n",
    "for n in range(2, 20):\n",
    "    for m in range(1,3):\n",
    "        clf = KNN(n_neighbors=n, method=method[m], metric=\"euclidean\")\n",
    "        clf.fit(X_train)\n",
    "        y_test_scores = clf.decision_function(X_test)  # outlier scores\n",
    "        score = roc_auc_score(y_test, y_test_scores)\n",
    "        if (score > bestScore): \n",
    "            bestN = n\n",
    "            bestM = m\n",
    "print(bestN)\n",
    "print(method[bestM])\n",
    "clf = KNN(n_neighbors=bestN, method=method[bestM], metric=\"euclidean\")\n",
    "clf.fit(X_train)\n",
    "y_test_scores = clf.decision_function(X_test)  # outlier scores\n",
    "y_test_pred = clf.predict(X_test)\n",
    "y_train_pred = clf.predict(X_train)\n",
    "print(roc_auc_score(y_test, y_test_scores))\n",
    "print(average_precision_score(y_test, y_test_scores))\n",
    "visualize(\"KNN\", X_train, y_train, X_test, y_test, y_train_pred, y_test_pred, show_figure=True, save_figure=False)\n",
    "### in sample test the major difference was made by the number of neighbours. The method didn't make much of a difference\n"
   ]
  },
  {
   "cell_type": "markdown",
   "metadata": {},
   "source": [
    "## Task 3 LOF"
   ]
  },
  {
   "cell_type": "code",
   "execution_count": null,
   "metadata": {},
   "outputs": [],
   "source": []
  }
 ],
 "metadata": {
  "kernelspec": {
   "display_name": "sid",
   "language": "python",
   "name": "python3"
  },
  "language_info": {
   "codemirror_mode": {
    "name": "ipython",
    "version": 3
   },
   "file_extension": ".py",
   "mimetype": "text/x-python",
   "name": "python",
   "nbconvert_exporter": "python",
   "pygments_lexer": "ipython3",
   "version": "3.9.18"
  }
 },
 "nbformat": 4,
 "nbformat_minor": 2
}
