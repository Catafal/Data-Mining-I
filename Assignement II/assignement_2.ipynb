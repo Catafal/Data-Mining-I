{
 "cells": [
  {
   "cell_type": "code",
   "execution_count": 40,
   "metadata": {},
   "outputs": [
    {
     "name": "stdout",
     "output_type": "stream",
     "text": [
      "Requirement already satisfied: numpy in c:\\users\\adria\\miniconda3\\envs\\sid\\lib\\site-packages (1.23.1)\n",
      "Requirement already satisfied: pandas in c:\\users\\adria\\miniconda3\\envs\\sid\\lib\\site-packages (2.2.2)\n",
      "Collecting pyfpgrowth\n",
      "  Downloading pyfpgrowth-1.0.tar.gz (1.6 MB)\n",
      "     ---------------------------------------- 0.0/1.6 MB ? eta -:--:--\n",
      "      --------------------------------------- 0.0/1.6 MB 991.0 kB/s eta 0:00:02\n",
      "     ----- ---------------------------------- 0.2/1.6 MB 3.0 MB/s eta 0:00:01\n",
      "     ------------------- -------------------- 0.8/1.6 MB 6.2 MB/s eta 0:00:01\n",
      "     -------------------------------- ------- 1.3/1.6 MB 7.7 MB/s eta 0:00:01\n",
      "     ---------------------------------------- 1.6/1.6 MB 8.0 MB/s eta 0:00:00\n",
      "  Preparing metadata (setup.py): started\n",
      "  Preparing metadata (setup.py): finished with status 'done'\n",
      "Requirement already satisfied: python-dateutil>=2.8.2 in c:\\users\\adria\\miniconda3\\envs\\sid\\lib\\site-packages (from pandas) (2.9.0)\n",
      "Requirement already satisfied: pytz>=2020.1 in c:\\users\\adria\\miniconda3\\envs\\sid\\lib\\site-packages (from pandas) (2024.1)\n",
      "Requirement already satisfied: tzdata>=2022.7 in c:\\users\\adria\\miniconda3\\envs\\sid\\lib\\site-packages (from pandas) (2024.1)\n",
      "Requirement already satisfied: six>=1.5 in c:\\users\\adria\\miniconda3\\envs\\sid\\lib\\site-packages (from python-dateutil>=2.8.2->pandas) (1.16.0)\n",
      "Building wheels for collected packages: pyfpgrowth\n",
      "  Building wheel for pyfpgrowth (setup.py): started\n",
      "  Building wheel for pyfpgrowth (setup.py): finished with status 'done'\n",
      "  Created wheel for pyfpgrowth: filename=pyfpgrowth-1.0-py2.py3-none-any.whl size=5510 sha256=5ceb35a01c317c4199ad8afce598ad2889bef5e29715260f57d144893bc122b9\n",
      "  Stored in directory: c:\\users\\adria\\appdata\\local\\pip\\cache\\wheels\\1d\\15\\f3\\26c63bd6040ea8f62d59dba0b4fe4dffe551a0f93879734a91\n",
      "Successfully built pyfpgrowth\n",
      "Installing collected packages: pyfpgrowth\n",
      "Successfully installed pyfpgrowth-1.0\n",
      "Note: you may need to restart the kernel to use updated packages.\n"
     ]
    }
   ],
   "source": [
    "%pip install numpy pandas pyfpgrowth"
   ]
  },
  {
   "cell_type": "code",
   "execution_count": 41,
   "metadata": {},
   "outputs": [],
   "source": [
    "import pandas as pd\n",
    "import numpy as np\n",
    "import pyfpgrowth "
   ]
  },
  {
   "cell_type": "code",
   "execution_count": 42,
   "metadata": {},
   "outputs": [
    {
     "name": "stdout",
     "output_type": "stream",
     "text": [
      "Number of rows before removing duplicates: 9999\n",
      "Number of rows after removing duplicates: 9816\n"
     ]
    }
   ],
   "source": [
    "df = pd.read_csv('./data/www.csv', sep='\\t')\n",
    "df = df[df.notna().any(axis = 'columns')]\n",
    "print('Number of rows before removing duplicates:', len(df)) \n",
    "df = df.drop_duplicates('Query', keep='first') \n",
    "df.reset_index(drop=True, inplace=True) \n",
    "print('Number of rows after removing duplicates:', len(df))"
   ]
  },
  {
   "cell_type": "code",
   "execution_count": 45,
   "metadata": {},
   "outputs": [
    {
     "name": "stdout",
     "output_type": "stream",
     "text": [
      "9816\n"
     ]
    }
   ],
   "source": [
    "# Convert the Query column to a list of lists \n",
    "associations = df['Query'].apply(lambda x: x.split()).tolist() \n",
    " \n",
    "num_records = len(associations)\n",
    "print(num_records)"
   ]
  },
  {
   "cell_type": "code",
   "execution_count": 46,
   "metadata": {},
   "outputs": [
    {
     "name": "stdout",
     "output_type": "stream",
     "text": [
      "Minimum support: 0.010187449062754686\n"
     ]
    },
    {
     "data": {
      "text/plain": [
       "{('high',): 101,\n",
       " ('with',): 104,\n",
       " ('my',): 110,\n",
       " ('home',): 113,\n",
       " ('you',): 117,\n",
       " ('i',): 117,\n",
       " ('is',): 118,\n",
       " ('state',): 123,\n",
       " ('what',): 128,\n",
       " ('city',): 132,\n",
       " ('florida',): 136,\n",
       " ('school',): 154,\n",
       " ('lyrics',): 175,\n",
       " ('how',): 178,\n",
       " ('how', 'to'): 130,\n",
       " ('new',): 222,\n",
       " ('http',): 224,\n",
       " ('free',): 225,\n",
       " ('on',): 232,\n",
       " ('county',): 237,\n",
       " ('a',): 340,\n",
       " ('to',): 426,\n",
       " ('and',): 546,\n",
       " ('for',): 553,\n",
       " ('in', 'the'): 117,\n",
       " ('of', 'the'): 207,\n",
       " ('in',): 844,\n",
       " ('of',): 955}"
      ]
     },
     "execution_count": 46,
     "metadata": {},
     "output_type": "execute_result"
    }
   ],
   "source": [
    "sigma = 100 \n",
    "min_support = sigma / num_records \n",
    "print(f\"Minimum support: {min_support}\") \n",
    " \n",
    "# the function find_frequent_patterns takes SIGMA as second parameter \n",
    "patterns = pyfpgrowth.find_frequent_patterns(associations, sigma) \n",
    "patterns"
   ]
  },
  {
   "cell_type": "code",
   "execution_count": 47,
   "metadata": {},
   "outputs": [
    {
     "name": "stdout",
     "output_type": "stream",
     "text": [
      "Number of frequent itemsets: 28\n",
      "Maximum size of frequent itemsets: 2\n"
     ]
    }
   ],
   "source": [
    "# number of frequent itemsets found \n",
    "num_frequent_itemsets = len(patterns) \n",
    " \n",
    "# maximum size of frequent itemsets \n",
    "max_itemset_size = max(len(itemset) for itemset in patterns) \n",
    " \n",
    "print(f'Number of frequent itemsets: {num_frequent_itemsets}') \n",
    "print(f'Maximum size of frequent itemsets: {max_itemset_size}')"
   ]
  },
  {
   "cell_type": "code",
   "execution_count": 49,
   "metadata": {},
   "outputs": [
    {
     "data": {
      "text/plain": [
       "{('high',): 0.010289323553382234,\n",
       " ('with',): 0.010594947025264874,\n",
       " ('my',): 0.011206193969030154,\n",
       " ('home',): 0.011511817440912795,\n",
       " ('you',): 0.011919315403422982,\n",
       " ('i',): 0.011919315403422982,\n",
       " ('is',): 0.01202118989405053,\n",
       " ('state',): 0.012530562347188265,\n",
       " ('what',): 0.013039934800325998,\n",
       " ('city',): 0.013447432762836185,\n",
       " ('florida',): 0.013854930725346373,\n",
       " ('school',): 0.015688671556642216,\n",
       " ('lyrics',): 0.0178280358598207,\n",
       " ('how',): 0.018133659331703342,\n",
       " ('how', 'to'): 0.013243683781581092,\n",
       " ('new',): 0.022616136919315404,\n",
       " ('http',): 0.022819885900570498,\n",
       " ('free',): 0.022921760391198046,\n",
       " ('on',): 0.023634881825590873,\n",
       " ('county',): 0.024144254278728607,\n",
       " ('a',): 0.03463732681336593,\n",
       " ('to',): 0.04339853300733496,\n",
       " ('and',): 0.055623471882640586,\n",
       " ('for',): 0.05633659331703342,\n",
       " ('in', 'the'): 0.011919315403422982,\n",
       " ('of', 'the'): 0.0210880195599022,\n",
       " ('in',): 0.08598207008964955,\n",
       " ('of',): 0.09729013854930725}"
      ]
     },
     "execution_count": 49,
     "metadata": {},
     "output_type": "execute_result"
    }
   ],
   "source": [
    "#  the support of an itemset is the fraction of records containing the items in the itemset (in this case, the keywords) \n",
    "support = {key: value / len(df) for key, value in patterns.items()} \n",
    "support "
   ]
  }
 ],
 "metadata": {
  "kernelspec": {
   "display_name": "sid",
   "language": "python",
   "name": "python3"
  },
  "language_info": {
   "codemirror_mode": {
    "name": "ipython",
    "version": 3
   },
   "file_extension": ".py",
   "mimetype": "text/x-python",
   "name": "python",
   "nbconvert_exporter": "python",
   "pygments_lexer": "ipython3",
   "version": "3.9.18"
  }
 },
 "nbformat": 4,
 "nbformat_minor": 2
}
